{
 "cells": [
  {
   "cell_type": "markdown",
   "id": "863ee70b",
   "metadata": {},
   "source": [
    "# Titanic Survival Prediction"
   ]
  },
  {
   "cell_type": "code",
   "execution_count": 1,
   "id": "1dc4e90c",
   "metadata": {},
   "outputs": [],
   "source": [
    "import pandas as pd\n",
    "import numpy as np\n",
    "import matplotlib.pyplot as plt\n",
    "\n",
    "import warnings\n",
    "warnings.filterwarnings(\"ignore\")"
   ]
  },
  {
   "cell_type": "code",
   "execution_count": 2,
   "id": "2c3ff0eb",
   "metadata": {},
   "outputs": [
    {
     "data": {
      "text/plain": [
       "(1309, 14)"
      ]
     },
     "execution_count": 2,
     "metadata": {},
     "output_type": "execute_result"
    }
   ],
   "source": [
    "df = pd.read_excel('titanic.xls')\n",
    "df.shape"
   ]
  },
  {
   "cell_type": "code",
   "execution_count": 3,
   "id": "95a78748",
   "metadata": {},
   "outputs": [
    {
     "name": "stdout",
     "output_type": "stream",
     "text": [
      "<class 'pandas.core.frame.DataFrame'>\n",
      "RangeIndex: 1309 entries, 0 to 1308\n",
      "Data columns (total 14 columns):\n",
      " #   Column     Non-Null Count  Dtype  \n",
      "---  ------     --------------  -----  \n",
      " 0   pclass     1309 non-null   int64  \n",
      " 1   survived   1309 non-null   int64  \n",
      " 2   name       1309 non-null   object \n",
      " 3   sex        1309 non-null   object \n",
      " 4   age        1046 non-null   float64\n",
      " 5   sibsp      1309 non-null   int64  \n",
      " 6   parch      1309 non-null   int64  \n",
      " 7   ticket     1309 non-null   object \n",
      " 8   fare       1308 non-null   float64\n",
      " 9   cabin      295 non-null    object \n",
      " 10  embarked   1307 non-null   object \n",
      " 11  boat       486 non-null    object \n",
      " 12  body       121 non-null    float64\n",
      " 13  home.dest  745 non-null    object \n",
      "dtypes: float64(3), int64(4), object(7)\n",
      "memory usage: 143.3+ KB\n"
     ]
    }
   ],
   "source": [
    "df.info()"
   ]
  },
  {
   "cell_type": "code",
   "execution_count": 4,
   "id": "df4f9ddb",
   "metadata": {},
   "outputs": [
    {
     "data": {
      "text/html": [
       "<div>\n",
       "<style scoped>\n",
       "    .dataframe tbody tr th:only-of-type {\n",
       "        vertical-align: middle;\n",
       "    }\n",
       "\n",
       "    .dataframe tbody tr th {\n",
       "        vertical-align: top;\n",
       "    }\n",
       "\n",
       "    .dataframe thead th {\n",
       "        text-align: right;\n",
       "    }\n",
       "</style>\n",
       "<table border=\"1\" class=\"dataframe\">\n",
       "  <thead>\n",
       "    <tr style=\"text-align: right;\">\n",
       "      <th></th>\n",
       "      <th>pclass</th>\n",
       "      <th>survived</th>\n",
       "      <th>name</th>\n",
       "      <th>sex</th>\n",
       "      <th>age</th>\n",
       "      <th>sibsp</th>\n",
       "      <th>parch</th>\n",
       "      <th>ticket</th>\n",
       "      <th>fare</th>\n",
       "      <th>cabin</th>\n",
       "      <th>embarked</th>\n",
       "      <th>boat</th>\n",
       "      <th>body</th>\n",
       "      <th>home.dest</th>\n",
       "    </tr>\n",
       "  </thead>\n",
       "  <tbody>\n",
       "    <tr>\n",
       "      <th>count</th>\n",
       "      <td>1309.000000</td>\n",
       "      <td>1309.000000</td>\n",
       "      <td>1309</td>\n",
       "      <td>1309</td>\n",
       "      <td>1046.000000</td>\n",
       "      <td>1309.000000</td>\n",
       "      <td>1309.000000</td>\n",
       "      <td>1309</td>\n",
       "      <td>1308.000000</td>\n",
       "      <td>295</td>\n",
       "      <td>1307</td>\n",
       "      <td>486</td>\n",
       "      <td>121.000000</td>\n",
       "      <td>745</td>\n",
       "    </tr>\n",
       "    <tr>\n",
       "      <th>unique</th>\n",
       "      <td>NaN</td>\n",
       "      <td>NaN</td>\n",
       "      <td>1307</td>\n",
       "      <td>2</td>\n",
       "      <td>NaN</td>\n",
       "      <td>NaN</td>\n",
       "      <td>NaN</td>\n",
       "      <td>939</td>\n",
       "      <td>NaN</td>\n",
       "      <td>186</td>\n",
       "      <td>3</td>\n",
       "      <td>28</td>\n",
       "      <td>NaN</td>\n",
       "      <td>369</td>\n",
       "    </tr>\n",
       "    <tr>\n",
       "      <th>top</th>\n",
       "      <td>NaN</td>\n",
       "      <td>NaN</td>\n",
       "      <td>Connolly, Miss. Kate</td>\n",
       "      <td>male</td>\n",
       "      <td>NaN</td>\n",
       "      <td>NaN</td>\n",
       "      <td>NaN</td>\n",
       "      <td>CA. 2343</td>\n",
       "      <td>NaN</td>\n",
       "      <td>C23 C25 C27</td>\n",
       "      <td>S</td>\n",
       "      <td>13</td>\n",
       "      <td>NaN</td>\n",
       "      <td>New York, NY</td>\n",
       "    </tr>\n",
       "    <tr>\n",
       "      <th>freq</th>\n",
       "      <td>NaN</td>\n",
       "      <td>NaN</td>\n",
       "      <td>2</td>\n",
       "      <td>843</td>\n",
       "      <td>NaN</td>\n",
       "      <td>NaN</td>\n",
       "      <td>NaN</td>\n",
       "      <td>11</td>\n",
       "      <td>NaN</td>\n",
       "      <td>6</td>\n",
       "      <td>914</td>\n",
       "      <td>39</td>\n",
       "      <td>NaN</td>\n",
       "      <td>64</td>\n",
       "    </tr>\n",
       "    <tr>\n",
       "      <th>mean</th>\n",
       "      <td>2.294882</td>\n",
       "      <td>0.381971</td>\n",
       "      <td>NaN</td>\n",
       "      <td>NaN</td>\n",
       "      <td>29.881135</td>\n",
       "      <td>0.498854</td>\n",
       "      <td>0.385027</td>\n",
       "      <td>NaN</td>\n",
       "      <td>33.295479</td>\n",
       "      <td>NaN</td>\n",
       "      <td>NaN</td>\n",
       "      <td>NaN</td>\n",
       "      <td>160.809917</td>\n",
       "      <td>NaN</td>\n",
       "    </tr>\n",
       "    <tr>\n",
       "      <th>std</th>\n",
       "      <td>0.837836</td>\n",
       "      <td>0.486055</td>\n",
       "      <td>NaN</td>\n",
       "      <td>NaN</td>\n",
       "      <td>14.413500</td>\n",
       "      <td>1.041658</td>\n",
       "      <td>0.865560</td>\n",
       "      <td>NaN</td>\n",
       "      <td>51.758668</td>\n",
       "      <td>NaN</td>\n",
       "      <td>NaN</td>\n",
       "      <td>NaN</td>\n",
       "      <td>97.696922</td>\n",
       "      <td>NaN</td>\n",
       "    </tr>\n",
       "    <tr>\n",
       "      <th>min</th>\n",
       "      <td>1.000000</td>\n",
       "      <td>0.000000</td>\n",
       "      <td>NaN</td>\n",
       "      <td>NaN</td>\n",
       "      <td>0.166700</td>\n",
       "      <td>0.000000</td>\n",
       "      <td>0.000000</td>\n",
       "      <td>NaN</td>\n",
       "      <td>0.000000</td>\n",
       "      <td>NaN</td>\n",
       "      <td>NaN</td>\n",
       "      <td>NaN</td>\n",
       "      <td>1.000000</td>\n",
       "      <td>NaN</td>\n",
       "    </tr>\n",
       "    <tr>\n",
       "      <th>25%</th>\n",
       "      <td>2.000000</td>\n",
       "      <td>0.000000</td>\n",
       "      <td>NaN</td>\n",
       "      <td>NaN</td>\n",
       "      <td>21.000000</td>\n",
       "      <td>0.000000</td>\n",
       "      <td>0.000000</td>\n",
       "      <td>NaN</td>\n",
       "      <td>7.895800</td>\n",
       "      <td>NaN</td>\n",
       "      <td>NaN</td>\n",
       "      <td>NaN</td>\n",
       "      <td>72.000000</td>\n",
       "      <td>NaN</td>\n",
       "    </tr>\n",
       "    <tr>\n",
       "      <th>50%</th>\n",
       "      <td>3.000000</td>\n",
       "      <td>0.000000</td>\n",
       "      <td>NaN</td>\n",
       "      <td>NaN</td>\n",
       "      <td>28.000000</td>\n",
       "      <td>0.000000</td>\n",
       "      <td>0.000000</td>\n",
       "      <td>NaN</td>\n",
       "      <td>14.454200</td>\n",
       "      <td>NaN</td>\n",
       "      <td>NaN</td>\n",
       "      <td>NaN</td>\n",
       "      <td>155.000000</td>\n",
       "      <td>NaN</td>\n",
       "    </tr>\n",
       "    <tr>\n",
       "      <th>75%</th>\n",
       "      <td>3.000000</td>\n",
       "      <td>1.000000</td>\n",
       "      <td>NaN</td>\n",
       "      <td>NaN</td>\n",
       "      <td>39.000000</td>\n",
       "      <td>1.000000</td>\n",
       "      <td>0.000000</td>\n",
       "      <td>NaN</td>\n",
       "      <td>31.275000</td>\n",
       "      <td>NaN</td>\n",
       "      <td>NaN</td>\n",
       "      <td>NaN</td>\n",
       "      <td>256.000000</td>\n",
       "      <td>NaN</td>\n",
       "    </tr>\n",
       "    <tr>\n",
       "      <th>max</th>\n",
       "      <td>3.000000</td>\n",
       "      <td>1.000000</td>\n",
       "      <td>NaN</td>\n",
       "      <td>NaN</td>\n",
       "      <td>80.000000</td>\n",
       "      <td>8.000000</td>\n",
       "      <td>9.000000</td>\n",
       "      <td>NaN</td>\n",
       "      <td>512.329200</td>\n",
       "      <td>NaN</td>\n",
       "      <td>NaN</td>\n",
       "      <td>NaN</td>\n",
       "      <td>328.000000</td>\n",
       "      <td>NaN</td>\n",
       "    </tr>\n",
       "  </tbody>\n",
       "</table>\n",
       "</div>"
      ],
      "text/plain": [
       "             pclass     survived                  name   sex          age  \\\n",
       "count   1309.000000  1309.000000                  1309  1309  1046.000000   \n",
       "unique          NaN          NaN                  1307     2          NaN   \n",
       "top             NaN          NaN  Connolly, Miss. Kate  male          NaN   \n",
       "freq            NaN          NaN                     2   843          NaN   \n",
       "mean       2.294882     0.381971                   NaN   NaN    29.881135   \n",
       "std        0.837836     0.486055                   NaN   NaN    14.413500   \n",
       "min        1.000000     0.000000                   NaN   NaN     0.166700   \n",
       "25%        2.000000     0.000000                   NaN   NaN    21.000000   \n",
       "50%        3.000000     0.000000                   NaN   NaN    28.000000   \n",
       "75%        3.000000     1.000000                   NaN   NaN    39.000000   \n",
       "max        3.000000     1.000000                   NaN   NaN    80.000000   \n",
       "\n",
       "              sibsp        parch    ticket         fare        cabin embarked  \\\n",
       "count   1309.000000  1309.000000      1309  1308.000000          295     1307   \n",
       "unique          NaN          NaN       939          NaN          186        3   \n",
       "top             NaN          NaN  CA. 2343          NaN  C23 C25 C27        S   \n",
       "freq            NaN          NaN        11          NaN            6      914   \n",
       "mean       0.498854     0.385027       NaN    33.295479          NaN      NaN   \n",
       "std        1.041658     0.865560       NaN    51.758668          NaN      NaN   \n",
       "min        0.000000     0.000000       NaN     0.000000          NaN      NaN   \n",
       "25%        0.000000     0.000000       NaN     7.895800          NaN      NaN   \n",
       "50%        0.000000     0.000000       NaN    14.454200          NaN      NaN   \n",
       "75%        1.000000     0.000000       NaN    31.275000          NaN      NaN   \n",
       "max        8.000000     9.000000       NaN   512.329200          NaN      NaN   \n",
       "\n",
       "       boat        body     home.dest  \n",
       "count   486  121.000000           745  \n",
       "unique   28         NaN           369  \n",
       "top      13         NaN  New York, NY  \n",
       "freq     39         NaN            64  \n",
       "mean    NaN  160.809917           NaN  \n",
       "std     NaN   97.696922           NaN  \n",
       "min     NaN    1.000000           NaN  \n",
       "25%     NaN   72.000000           NaN  \n",
       "50%     NaN  155.000000           NaN  \n",
       "75%     NaN  256.000000           NaN  \n",
       "max     NaN  328.000000           NaN  "
      ]
     },
     "execution_count": 4,
     "metadata": {},
     "output_type": "execute_result"
    }
   ],
   "source": [
    "df.describe(include='all')"
   ]
  },
  {
   "cell_type": "code",
   "execution_count": 5,
   "id": "ac5119fc",
   "metadata": {},
   "outputs": [
    {
     "name": "stdout",
     "output_type": "stream",
     "text": [
      "['pclass', 'survived', 'name', 'sex', 'age', 'sibsp', 'parch', 'ticket', 'fare', 'cabin', 'embarked', 'boat', 'body', 'home.dest']\n"
     ]
    }
   ],
   "source": [
    "print(list(df.columns))"
   ]
  },
  {
   "cell_type": "code",
   "execution_count": 6,
   "id": "63c15a1c",
   "metadata": {
    "scrolled": false
   },
   "outputs": [
    {
     "name": "stdout",
     "output_type": "stream",
     "text": [
      "-------------------------------------------------- \n",
      "\n",
      "pclass\n",
      "3    709\n",
      "1    323\n",
      "2    277\n",
      "Name: pclass, dtype: int64\n",
      "-------------------------------------------------- \n",
      "\n",
      "survived\n",
      "0    809\n",
      "1    500\n",
      "Name: survived, dtype: int64\n",
      "-------------------------------------------------- \n",
      "\n",
      "name\n",
      "Connolly, Miss. Kate             2\n",
      "Kelly, Mr. James                 2\n",
      "Allen, Miss. Elisabeth Walton    1\n",
      "Ilmakangas, Miss. Ida Livija     1\n",
      "Ilieff, Mr. Ylio                 1\n",
      "                                ..\n",
      "Hart, Miss. Eva Miriam           1\n",
      "Harris, Mr. Walter               1\n",
      "Harris, Mr. George               1\n",
      "Harper, Rev. John                1\n",
      "Zimmerman, Mr. Leo               1\n",
      "Name: name, Length: 1307, dtype: int64\n",
      "-------------------------------------------------- \n",
      "\n",
      "sex\n",
      "male      843\n",
      "female    466\n",
      "Name: sex, dtype: int64\n",
      "-------------------------------------------------- \n",
      "\n",
      "age\n",
      "24.0000    47\n",
      "22.0000    43\n",
      "21.0000    41\n",
      "30.0000    40\n",
      "18.0000    39\n",
      "           ..\n",
      "0.3333      1\n",
      "22.5000     1\n",
      "70.5000     1\n",
      "0.6667      1\n",
      "26.5000     1\n",
      "Name: age, Length: 98, dtype: int64\n",
      "-------------------------------------------------- \n",
      "\n",
      "sibsp\n",
      "0    891\n",
      "1    319\n",
      "2     42\n",
      "4     22\n",
      "3     20\n",
      "8      9\n",
      "5      6\n",
      "Name: sibsp, dtype: int64\n",
      "-------------------------------------------------- \n",
      "\n",
      "parch\n",
      "0    1002\n",
      "1     170\n",
      "2     113\n",
      "3       8\n",
      "4       6\n",
      "5       6\n",
      "6       2\n",
      "9       2\n",
      "Name: parch, dtype: int64\n",
      "-------------------------------------------------- \n",
      "\n",
      "ticket\n",
      "CA. 2343        11\n",
      "CA 2144          8\n",
      "1601             8\n",
      "S.O.C. 14879     7\n",
      "3101295          7\n",
      "                ..\n",
      "C 7076           1\n",
      "341826           1\n",
      "7546             1\n",
      "3474             1\n",
      "315082           1\n",
      "Name: ticket, Length: 939, dtype: int64\n",
      "-------------------------------------------------- \n",
      "\n",
      "fare\n",
      "8.0500     60\n",
      "13.0000    59\n",
      "7.7500     55\n",
      "26.0000    50\n",
      "7.8958     49\n",
      "           ..\n",
      "15.0500     1\n",
      "9.6875      1\n",
      "15.5792     1\n",
      "12.0000     1\n",
      "7.8750      1\n",
      "Name: fare, Length: 281, dtype: int64\n",
      "-------------------------------------------------- \n",
      "\n",
      "cabin\n",
      "C23 C25 C27        6\n",
      "G6                 5\n",
      "B57 B59 B63 B66    5\n",
      "F4                 4\n",
      "F33                4\n",
      "                  ..\n",
      "C132               1\n",
      "E60                1\n",
      "B52 B54 B56        1\n",
      "C49                1\n",
      "F38                1\n",
      "Name: cabin, Length: 186, dtype: int64\n",
      "-------------------------------------------------- \n",
      "\n",
      "embarked\n",
      "S    914\n",
      "C    270\n",
      "Q    123\n",
      "Name: embarked, dtype: int64\n",
      "-------------------------------------------------- \n",
      "\n",
      "boat\n",
      "13         39\n",
      "C          38\n",
      "15         37\n",
      "14         33\n",
      "4          31\n",
      "10         29\n",
      "5          27\n",
      "3          26\n",
      "9          25\n",
      "11         25\n",
      "7          23\n",
      "16         23\n",
      "8          23\n",
      "6          20\n",
      "D          20\n",
      "12         19\n",
      "2          12\n",
      "A          11\n",
      "B           9\n",
      "1           5\n",
      "C D         2\n",
      "13 15       2\n",
      "5 7         2\n",
      "8 10        1\n",
      "13 15 B     1\n",
      "5 9         1\n",
      "15 16       1\n",
      "2           1\n",
      "Name: boat, dtype: int64\n",
      "-------------------------------------------------- \n",
      "\n",
      "body\n",
      "135.0    1\n",
      "101.0    1\n",
      "37.0     1\n",
      "285.0    1\n",
      "156.0    1\n",
      "        ..\n",
      "97.0     1\n",
      "174.0    1\n",
      "169.0    1\n",
      "245.0    1\n",
      "304.0    1\n",
      "Name: body, Length: 121, dtype: int64\n",
      "-------------------------------------------------- \n",
      "\n",
      "home.dest\n",
      "New York, NY                                    64\n",
      "London                                          14\n",
      "Montreal, PQ                                    10\n",
      "Paris, France                                    9\n",
      "Cornwall / Akron, OH                             9\n",
      "                                                ..\n",
      "Chelsea, London                                  1\n",
      "Harrow-on-the-Hill, Middlesex                    1\n",
      "Copenhagen, Denmark                              1\n",
      "Guernsey / Montclair, NJ and/or Toledo, Ohio     1\n",
      "Antwerp, Belgium / Stanton, OH                   1\n",
      "Name: home.dest, Length: 369, dtype: int64\n"
     ]
    }
   ],
   "source": [
    "for col in list(df.columns):\n",
    "    print('-'*50, '\\n')\n",
    "    print(col)\n",
    "    print(df[col].value_counts())"
   ]
  },
  {
   "cell_type": "code",
   "execution_count": 7,
   "id": "14b1b47c",
   "metadata": {},
   "outputs": [],
   "source": [
    "df.drop(columns=['name', 'ticket', 'cabin', 'boat', 'home.dest'], inplace=True)"
   ]
  },
  {
   "cell_type": "code",
   "execution_count": 8,
   "id": "1799e068",
   "metadata": {},
   "outputs": [
    {
     "data": {
      "text/plain": [
       "pclass      0.000000\n",
       "survived    0.000000\n",
       "sex         0.000000\n",
       "sibsp       0.000000\n",
       "parch       0.000000\n",
       "fare        0.000764\n",
       "embarked    0.001528\n",
       "age         0.200917\n",
       "body        0.907563\n",
       "dtype: float64"
      ]
     },
     "execution_count": 8,
     "metadata": {},
     "output_type": "execute_result"
    }
   ],
   "source": [
    "df.isna().sum().sort_values()/df.shape[0]"
   ]
  },
  {
   "cell_type": "code",
   "execution_count": 9,
   "id": "3fb5c198",
   "metadata": {},
   "outputs": [],
   "source": [
    "df.drop(columns='body', inplace=True)"
   ]
  },
  {
   "cell_type": "markdown",
   "id": "ce194ed9",
   "metadata": {},
   "source": [
    "## Preprocessing"
   ]
  },
  {
   "cell_type": "code",
   "execution_count": 10,
   "id": "16f3d6fb",
   "metadata": {},
   "outputs": [],
   "source": [
    "from sklearn.impute import SimpleImputer\n",
    "from sklearn.preprocessing import OrdinalEncoder, KBinsDiscretizer, Binarizer\n",
    "from sklearn.pipeline import Pipeline, make_pipeline\n",
    "from sklearn.compose import make_column_transformer"
   ]
  },
  {
   "cell_type": "code",
   "execution_count": 11,
   "id": "6dddec22",
   "metadata": {},
   "outputs": [],
   "source": [
    "encode_sex = OrdinalEncoder()\n",
    "encode_sibsp = Binarizer(threshold=1)\n",
    "encode_parch = Binarizer()\n",
    "process_fare = make_pipeline(\n",
    "    SimpleImputer(strategy='mean'),\n",
    "    KBinsDiscretizer(n_bins=3, encode='ordinal')\n",
    ")\n",
    "process_embarked = make_pipeline(\n",
    "    SimpleImputer(strategy='most_frequent'),\n",
    "    OrdinalEncoder()\n",
    ")\n",
    "process_age = make_pipeline(\n",
    "    SimpleImputer(strategy='mean'),\n",
    "    KBinsDiscretizer(n_bins=3)\n",
    ")\n",
    "\n",
    "\n",
    "transformer = make_column_transformer(\n",
    "    (encode_sex, ['sex']),\n",
    "    (encode_sibsp, ['sibsp']),\n",
    "    (encode_parch, ['parch']),\n",
    "    (process_fare, ['fare']),\n",
    "    (process_embarked, ['embarked']),\n",
    "    (process_age, ['age'])\n",
    ")"
   ]
  },
  {
   "cell_type": "code",
   "execution_count": 12,
   "id": "3dea8811",
   "metadata": {},
   "outputs": [],
   "source": [
    "from sklearn.model_selection import train_test_split"
   ]
  },
  {
   "cell_type": "code",
   "execution_count": 13,
   "id": "023260e9",
   "metadata": {},
   "outputs": [
    {
     "data": {
      "text/plain": [
       "['pclass', 'survived', 'sex', 'age', 'sibsp', 'parch', 'fare', 'embarked']"
      ]
     },
     "execution_count": 13,
     "metadata": {},
     "output_type": "execute_result"
    }
   ],
   "source": [
    "df.columns.to_list()"
   ]
  },
  {
   "cell_type": "code",
   "execution_count": 14,
   "id": "7a3b5c18",
   "metadata": {},
   "outputs": [],
   "source": [
    "y = df['survived']\n",
    "X = df.drop(columns='survived')\n",
    "\n",
    "X_train, X_test, y_train, y_test = train_test_split(X,y, test_size=0.2)"
   ]
  },
  {
   "cell_type": "code",
   "execution_count": 15,
   "id": "cda7e6ca",
   "metadata": {},
   "outputs": [],
   "source": [
    "X_train = transformer.fit_transform(X_train)"
   ]
  },
  {
   "cell_type": "markdown",
   "id": "e1af1811",
   "metadata": {},
   "source": [
    "## Model"
   ]
  },
  {
   "cell_type": "code",
   "execution_count": 16,
   "id": "f494b388",
   "metadata": {},
   "outputs": [],
   "source": [
    "from sklearn.linear_model import LogisticRegression\n",
    "from sklearn.neighbors import KNeighborsClassifier\n",
    "from sklearn.tree import DecisionTreeClassifier"
   ]
  },
  {
   "cell_type": "code",
   "execution_count": 17,
   "id": "f62699bd",
   "metadata": {},
   "outputs": [],
   "source": [
    "lr = LogisticRegression()\n",
    "knn = KNeighborsClassifier()\n",
    "dtc = DecisionTreeClassifier()"
   ]
  },
  {
   "cell_type": "code",
   "execution_count": 18,
   "id": "725806ac",
   "metadata": {},
   "outputs": [
    {
     "data": {
      "text/plain": [
       "LogisticRegression()"
      ]
     },
     "execution_count": 18,
     "metadata": {},
     "output_type": "execute_result"
    }
   ],
   "source": [
    "lr.fit(X_train, y_train)"
   ]
  },
  {
   "cell_type": "code",
   "execution_count": 19,
   "id": "9b505478",
   "metadata": {},
   "outputs": [
    {
     "data": {
      "text/plain": [
       "KNeighborsClassifier()"
      ]
     },
     "execution_count": 19,
     "metadata": {},
     "output_type": "execute_result"
    }
   ],
   "source": [
    "knn.fit(X_train, y_train)"
   ]
  },
  {
   "cell_type": "code",
   "execution_count": 20,
   "id": "b05f2e58",
   "metadata": {},
   "outputs": [
    {
     "data": {
      "text/plain": [
       "DecisionTreeClassifier()"
      ]
     },
     "execution_count": 20,
     "metadata": {},
     "output_type": "execute_result"
    }
   ],
   "source": [
    "dtc.fit(X_train, y_train)"
   ]
  },
  {
   "cell_type": "markdown",
   "id": "5a4c0785",
   "metadata": {},
   "source": [
    "## Evaluation"
   ]
  },
  {
   "cell_type": "code",
   "execution_count": 21,
   "id": "f7929c58",
   "metadata": {},
   "outputs": [],
   "source": [
    "from sklearn.metrics import accuracy_score, confusion_matrix, classification_report, RocCurveDisplay, auc, roc_curve\n",
    "from sklearn.model_selection import learning_curve"
   ]
  },
  {
   "cell_type": "code",
   "execution_count": 22,
   "id": "9b5c86c3",
   "metadata": {},
   "outputs": [],
   "source": [
    "X_test = transformer.transform(X_test)\n",
    "def evaluation(model, title):\n",
    "    y_pred = model.predict(X_test)\n",
    "    print(confusion_matrix(y_test, y_pred))\n",
    "    print('Accuracy:', accuracy_score(y_test, y_pred))\n",
    "    N, train_score, val_score = learning_curve(model, X_train, y_train, scoring='accuracy')\n",
    "    plt.figure()\n",
    "    plt.title(title, size=16)\n",
    "    plt.plot(N, train_score.mean(axis=1), label='Train')\n",
    "    plt.plot(N, val_score.mean(axis=1), label='Validation')\n",
    "    plt.legend()"
   ]
  },
  {
   "cell_type": "code",
   "execution_count": 23,
   "id": "8eb77d92",
   "metadata": {
    "scrolled": false
   },
   "outputs": [
    {
     "name": "stdout",
     "output_type": "stream",
     "text": [
      "--------------------------------------------------\n",
      "LogisticRegression\n",
      "[[141  19]\n",
      " [ 31  71]]\n",
      "Accuracy: 0.8091603053435115\n",
      "--------------------------------------------------\n",
      "KNeighborsClassifier\n",
      "[[136  24]\n",
      " [ 37  65]]\n",
      "Accuracy: 0.767175572519084\n",
      "--------------------------------------------------\n",
      "DecisionTreeClassifier\n",
      "[[142  18]\n",
      " [ 30  72]]\n",
      "Accuracy: 0.816793893129771\n"
     ]
    },
    {
     "data": {
      "image/png": "[encoded data removed]",
      "text/plain": [
       "<Figure size 640x480 with 1 Axes>"
      ]
     },
     "metadata": {},
     "output_type": "display_data"
    },
    {
     "data": {
      "image/png": "[encoded data removed]",
      "text/plain": [
       "<Figure size 640x480 with 1 Axes>"
      ]
     },
     "metadata": {},
     "output_type": "display_data"
    },
    {
     "data": {
      "image/png": "[encoded data removed]",
      "text/plain": [
       "<Figure size 640x480 with 1 Axes>"
      ]
     },
     "metadata": {},
     "output_type": "display_data"
    }
   ],
   "source": [
    "models_dict = {\n",
    "    'LogisticRegression': lr,\n",
    "    'KNeighborsClassifier': knn,\n",
    "    'DecisionTreeClassifier': dtc\n",
    "}\n",
    "\n",
    "for title, model in models_dict.items():\n",
    "    print('-'*50)\n",
    "    print(title)\n",
    "    evaluation(model, title)"
   ]
  },
  {
   "cell_type": "code",
   "execution_count": null,
   "id": "b32a6bdd",
   "metadata": {},
   "outputs": [],
   "source": []
  },
  {
   "cell_type": "code",
   "execution_count": null,
   "id": "d1492ac8",
   "metadata": {},
   "outputs": [],
   "source": []
  },
  {
   "cell_type": "code",
   "execution_count": null,
   "id": "b5226103",
   "metadata": {},
   "outputs": [],
   "source": []
  },
  {
   "cell_type": "code",
   "execution_count": null,
   "id": "e96dac0a",
   "metadata": {},
   "outputs": [],
   "source": []
  },
  {
   "cell_type": "code",
   "execution_count": null,
   "id": "181d37e6",
   "metadata": {},
   "outputs": [],
   "source": []
  }
 ],
 "metadata": {
  "kernelspec": {
   "display_name": "Python 3 (ipykernel)",
   "language": "python",
   "name": "python3"
  },
  "language_info": {
   "codemirror_mode": {
    "name": "ipython",
    "version": 3
   },
   "file_extension": ".py",
   "mimetype": "text/x-python",
   "name": "python",
   "nbconvert_exporter": "python",
   "pygments_lexer": "ipython3",
   "version": "3.9.13"
  }
 },
 "nbformat": 4,
 "nbformat_minor": 5
}
