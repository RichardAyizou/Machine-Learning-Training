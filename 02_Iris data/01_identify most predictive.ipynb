{
 "cells": [
  {
   "cell_type": "code",
   "execution_count": 1,
   "id": "52d7eaf3",
   "metadata": {},
   "outputs": [
    {
     "name": "stdout",
     "output_type": "stream",
     "text": [
      "Most predictive variables:\n",
      "petal length : -2.521481951648359\n",
      "petal width : -1.0840039321582526\n",
      "sepal width : 0.9663106259320048\n",
      "sepal length : -0.4180675863234478\n"
     ]
    },
    {
     "name": "stderr",
     "output_type": "stream",
     "text": [
      "C:\\ProgramData\\Anaconda3\\lib\\site-packages\\sklearn\\linear_model\\_logistic.py:814: ConvergenceWarning: lbfgs failed to converge (status=1):\n",
      "STOP: TOTAL NO. of ITERATIONS REACHED LIMIT.\n",
      "\n",
      "Increase the number of iterations (max_iter) or scale the data as shown in:\n",
      "    https://scikit-learn.org/stable/modules/preprocessing.html\n",
      "Please also refer to the documentation for alternative solver options:\n",
      "    https://scikit-learn.org/stable/modules/linear_model.html#logistic-regression\n",
      "  n_iter_i = _check_optimize_result(\n"
     ]
    }
   ],
   "source": [
    "from sklearn.linear_model import LogisticRegression\n",
    "from sklearn.datasets import load_iris\n",
    "import numpy as np\n",
    "\n",
    "# Load dataset (example using Iris dataset)\n",
    "X, y = load_iris(return_X_y=True)\n",
    "\n",
    "# Instantiate Logistic Regression model\n",
    "model = LogisticRegression()\n",
    "\n",
    "# Train the model\n",
    "model.fit(X, y)\n",
    "\n",
    "# Get coefficients\n",
    "coefficients = model.coef_\n",
    "\n",
    "# Map coefficients to feature names\n",
    "feature_names = ['sepal length', 'sepal width', 'petal length', 'petal width']\n",
    "coef_dict = {}\n",
    "for coef, feat in zip(coefficients[0], feature_names):\n",
    "    coef_dict[feat] = coef\n",
    "\n",
    "# Sort features by their coefficients\n",
    "sorted_features = sorted(coef_dict.items(), key=lambda x: np.abs(x[1]), reverse=True)\n",
    "\n",
    "# Print most predictive variables\n",
    "print(\"Most predictive variables:\")\n",
    "for feat, coef in sorted_features:\n",
    "    print(feat, \":\", coef)\n"
   ]
  },
  {
   "cell_type": "code",
   "execution_count": null,
   "id": "ffa5547d",
   "metadata": {},
   "outputs": [],
   "source": []
  }
 ],
 "metadata": {
  "kernelspec": {
   "display_name": "Python 3 (ipykernel)",
   "language": "python",
   "name": "python3"
  },
  "language_info": {
   "codemirror_mode": {
    "name": "ipython",
    "version": 3
   },
   "file_extension": ".py",
   "mimetype": "text/x-python",
   "name": "python",
   "nbconvert_exporter": "python",
   "pygments_lexer": "ipython3",
   "version": "3.9.13"
  }
 },
 "nbformat": 4,
 "nbformat_minor": 5
}
